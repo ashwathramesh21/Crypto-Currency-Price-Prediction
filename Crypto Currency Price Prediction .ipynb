{
 "cells": [
  {
   "cell_type": "code",
   "execution_count": 3,
   "id": "b0d81ba5",
   "metadata": {},
   "outputs": [],
   "source": [
    "import pandas as pd\n",
    "import numpy as np\n",
    "import matplotlib.pyplot as plt\n",
    "import seaborn as sns\n",
    "from statsmodels.tsa.stattools import adfuller\n",
    "from statsmodels.tsa.arima_model import ARIMA\n",
    "from pmdarima import auto_arima\n",
    "from sklearn.metrics import mean_squared_error\n",
    "from math import sqrt\n",
    "import warnings\n",
    "from sklearn.metrics import mean_absolute_error\n",
    "from sklearn.metrics import accuracy_score\n",
    "from collections import OrderedDict\n",
    "from sklearn.metrics import accuracy_score\n",
    "from pandas.plotting import autocorrelation_plot\n",
    "from sklearn.preprocessing import MinMaxScaler\n",
    "from pandas import concat\n",
    "from keras.models import Sequential\n",
    "from keras.layers import Dense\n",
    "from keras.layers import LSTM\n",
    "from matplotlib import pyplot\n",
    "from numpy import concatenate\n",
    "from keras.layers import Bidirectional"
   ]
  },
  {
   "cell_type": "code",
   "execution_count": 4,
   "id": "648857a0",
   "metadata": {},
   "outputs": [],
   "source": [
    "def lag(x,y,z):\n",
    "    WINDOW = z\n",
    "    for window in WINDOW:\n",
    "        x['{}_Window_{}'.format(y,window)] = x[y].rolling(window).mean()"
   ]
  },
  {
   "cell_type": "code",
   "execution_count": 5,
   "id": "c08553bb",
   "metadata": {},
   "outputs": [],
   "source": [
    "def bestfit(x):\n",
    "    model_ = auto_arima(x, trace= True)\n",
    "    model_.summary()"
   ]
  },
  {
   "cell_type": "code",
   "execution_count": 6,
   "id": "74666abb",
   "metadata": {},
   "outputs": [],
   "source": [
    "def arima(x,y):\n",
    "    model = ARIMA(x, order= y)\n",
    "    model = model.fit()\n",
    "    model.summary()\n",
    "    predict = model.predict(start = len(train), end = len(train)+ len(test) - 1, typ = 'levels')\n",
    "    return predict"
   ]
  },
  {
   "cell_type": "code",
   "execution_count": 7,
   "id": "c5ff43b3",
   "metadata": {},
   "outputs": [],
   "source": [
    "def pred_plot(x,y):\n",
    "    x.plot()\n",
    "    y.plot()"
   ]
  },
  {
   "cell_type": "code",
   "execution_count": 8,
   "id": "49e7c5d3",
   "metadata": {},
   "outputs": [],
   "source": [
    "def rmse(x,y):\n",
    "    rmse = sqrt(mean_squared_error(x,y))\n",
    "    return rmse"
   ]
  },
  {
   "cell_type": "code",
   "execution_count": 9,
   "id": "7ce181d6",
   "metadata": {
    "scrolled": true
   },
   "outputs": [],
   "source": [
    "def binary_pred_acc(x):\n",
    "    pred = pd.DataFrame()\n",
    "    pred['predict'] = x\n",
    "    pred['close_binary'] = np.where(pred['predict']>x.mean(), 1, 0)\n",
    "    acc = accuracy_score(df['close_binary'].iloc[-187:],pred['close_binary'])\n",
    "    return acc"
   ]
  },
  {
   "cell_type": "markdown",
   "id": "250c0a18",
   "metadata": {},
   "source": [
    "filtering warning did not work idk why"
   ]
  },
  {
   "cell_type": "markdown",
   "id": "42a865c0",
   "metadata": {},
   "source": [
    "# Bitcoin "
   ]
  },
  {
   "cell_type": "markdown",
   "id": "1469b88c",
   "metadata": {},
   "source": [
    "#### Close with stationary with lag window of 7"
   ]
  },
  {
   "cell_type": "code",
   "execution_count": 23,
   "id": "1748e55b",
   "metadata": {
    "scrolled": true
   },
   "outputs": [],
   "source": [
    "data = pd.read_csv('Ethereum_Google_Trends.csv')\n",
    "data['Date'] = pd.to_datetime(data['Date'])"
   ]
  },
  {
   "cell_type": "code",
   "execution_count": 24,
   "id": "a92672ba",
   "metadata": {},
   "outputs": [],
   "source": [
    "data['returns_close'] = ((data['Close'] - data['Close'].shift(1))/data['Close'])*100\n",
    "data = data.dropna()\n",
    "data['returns_trend'] = ((data['Trend'] - data['Trend'].shift(1))/data['Trend'])*100\n",
    "data = data.dropna()\n",
    "data['close_binary'] = np.where(data['returns_close']>0, 1, 0)"
   ]
  },
  {
   "cell_type": "code",
   "execution_count": 25,
   "id": "f32bd7b9-eab3-45e8-a507-ab7e98fe11a7",
   "metadata": {},
   "outputs": [],
   "source": [
    "lag(data,'returns_close',[3,7])\n",
    "data = data.dropna()\n",
    "lag(data,'returns_trend',[3,7])\n",
    "data = data.dropna()"
   ]
  },
  {
   "cell_type": "code",
   "execution_count": 26,
   "id": "ec6920f8-126a-4509-b523-07c3d2ddd422",
   "metadata": {},
   "outputs": [
    {
     "data": {
      "text/plain": [
       "Index(['Name', 'Symbol', 'Date', 'High', 'Low', 'Open', 'Close', 'Volume',\n",
       "       'Marketcap', 'Trend', 'returns_close', 'returns_trend', 'close_binary',\n",
       "       'returns_close_Window_3', 'returns_close_Window_7',\n",
       "       'returns_trend_Window_3', 'returns_trend_Window_7'],\n",
       "      dtype='object')"
      ]
     },
     "execution_count": 26,
     "metadata": {},
     "output_type": "execute_result"
    }
   ],
   "source": [
    "data.columns"
   ]
  },
  {
   "cell_type": "code",
   "execution_count": 27,
   "id": "e22706e5-4ad6-42ea-bda9-6d5f8cf47d80",
   "metadata": {},
   "outputs": [],
   "source": [
    "df = pd.DataFrame()\n",
    "df[['close','trend','lag_close3','lag_close7','lag_trend3','lag_trend7']] = data[['returns_close','returns_trend','returns_close_Window_3','returns_close_Window_7','returns_trend_Window_3','returns_trend_Window_7']]"
   ]
  },
  {
   "cell_type": "code",
   "execution_count": 28,
   "id": "a76c88c8-cdef-4f26-9146-98d6b50fbf11",
   "metadata": {},
   "outputs": [],
   "source": [
    "# convert series to supervised learning\n",
    "def series_to_supervised(data, n_in=1, n_out=1, dropnan=True):\n",
    "\tn_vars = 1 if type(data) is list else data.shape[1]\n",
    "\tdf = pd.DataFrame(data)\n",
    "\tcols, names = list(), list()\n",
    "\t# input sequence (t-n, ... t-1)\n",
    "\tfor i in range(n_in, 0, -1):\n",
    "\t\tcols.append(df.shift(i))\n",
    "\t\tnames += [('var%d(t-%d)' % (j+1, i)) for j in range(n_vars)]\n",
    "\t# forecast sequence (t, t+1, ... t+n)\n",
    "\tfor i in range(0, n_out):\n",
    "\t\tcols.append(df.shift(-i))\n",
    "\t\tif i == 0:\n",
    "\t\t\tnames += [('var%d(t)' % (j+1)) for j in range(n_vars)]\n",
    "\t\telse:\n",
    "\t\t\tnames += [('var%d(t+%d)' % (j+1, i)) for j in range(n_vars)]\n",
    "\t# put it all together\n",
    "\tagg = concat(cols, axis=1)\n",
    "\tagg.columns = names\n",
    "\t# drop rows with NaN values\n",
    "\tif dropnan:\n",
    "\t\tagg.dropna(inplace=True)\n",
    "\treturn agg"
   ]
  },
  {
   "cell_type": "code",
   "execution_count": 29,
   "id": "c2937bdb-9cfd-4aa3-bb47-5fc138260d53",
   "metadata": {},
   "outputs": [
    {
     "name": "stdout",
     "output_type": "stream",
     "text": [
      "(1937, 24)\n"
     ]
    }
   ],
   "source": [
    "values = df.values\n",
    "# ensure all data is float\n",
    "values = values.astype('float32')\n",
    "# normalize features\n",
    "scaler = MinMaxScaler(feature_range=(0, 1))\n",
    "scaled = scaler.fit_transform(values)\n",
    "n_days = 3\n",
    "n_features = 6\n",
    "# frame as supervised learning\n",
    "reframed = series_to_supervised(scaled, n_days, 1)\n",
    "print(reframed.shape)"
   ]
  },
  {
   "cell_type": "code",
   "execution_count": 30,
   "id": "ed5e09e5-742f-44dc-b7c8-fa2e16d99e84",
   "metadata": {},
   "outputs": [
    {
     "name": "stderr",
     "output_type": "stream",
     "text": [
      "C:\\Users\\rohit\\anaconda3\\lib\\site-packages\\seaborn\\distributions.py:2619: FutureWarning: `distplot` is a deprecated function and will be removed in a future version. Please adapt your code to use either `displot` (a figure-level function with similar flexibility) or `kdeplot` (an axes-level function for kernel density plots).\n",
      "  warnings.warn(msg, FutureWarning)\n",
      "C:\\Users\\rohit\\anaconda3\\lib\\site-packages\\seaborn\\distributions.py:2619: FutureWarning: `distplot` is a deprecated function and will be removed in a future version. Please adapt your code to use either `displot` (a figure-level function with similar flexibility) or `kdeplot` (an axes-level function for kernel density plots).\n",
      "  warnings.warn(msg, FutureWarning)\n"
     ]
    },
    {
     "data": {
      "text/plain": [
       "<AxesSubplot:xlabel='var1(t)', ylabel='Density'>"
      ]
     },
     "execution_count": 30,
     "metadata": {},
     "output_type": "execute_result"
    },
    {
     "data": {
      "image/png": "[encoded data removed]",
      "text/plain": [
       "<Figure size 432x288 with 2 Axes>"
      ]
     },
     "metadata": {
      "needs_background": "light"
     },
     "output_type": "display_data"
    }
   ],
   "source": [
    "# creating axes to draw plots\n",
    "fig, ax = plt.subplots(1, 2)\n",
    "sns.distplot(df['close'], hist = False, kde = True,\n",
    "            kde_kws = {'shade': True, 'linewidth': 2}, \n",
    "            label = \"Non-Normal\", color =\"green\", ax=ax[0])\n",
    "sns.distplot(reframed['var1(t)'], hist = False, kde = True,\n",
    "            kde_kws = {'shade': True, 'linewidth': 2}, \n",
    "            label = \"Non-Normal\", color =\"green\", ax=ax[1])"
   ]
  },
  {
   "cell_type": "code",
   "execution_count": 31,
   "id": "de33d064-ea55-4935-bf0a-14c292542022",
   "metadata": {},
   "outputs": [],
   "source": [
    "# split into train and test sets\n",
    "values = reframed.values\n",
    "n_train = 1750\n",
    "train = values[:n_train, :]\n",
    "test = values[n_train:, :]"
   ]
  },
  {
   "cell_type": "code",
   "execution_count": 32,
   "id": "344e8e72-7049-4701-8a81-db1eaa982153",
   "metadata": {},
   "outputs": [
    {
     "name": "stdout",
     "output_type": "stream",
     "text": [
      "(1750, 18) 1750 (1750,)\n"
     ]
    }
   ],
   "source": [
    "# split into input and outputs\n",
    "n_obs = n_days * n_features\n",
    "train_X, train_y = train[:, :n_obs], train[:, -n_features]\n",
    "test_X, test_y = test[:, :n_obs], test[:, -n_features]\n",
    "print(train_X.shape, len(train_X), train_y.shape)"
   ]
  },
  {
   "cell_type": "code",
   "execution_count": 33,
   "id": "90983fd5-7757-475f-bbc5-82d48397b8e1",
   "metadata": {},
   "outputs": [
    {
     "name": "stdout",
     "output_type": "stream",
     "text": [
      "(1750, 3, 6) (1750,) (187, 3, 6) (187,)\n"
     ]
    }
   ],
   "source": [
    "# reshape input to be 3D [samples, timesteps, features]\n",
    "train_X = train_X.reshape((train_X.shape[0], n_days, n_features))\n",
    "test_X = test_X.reshape((test_X.shape[0], n_days, n_features))\n",
    "print(train_X.shape, train_y.shape, test_X.shape, test_y.shape)"
   ]
  },
  {
   "cell_type": "code",
   "execution_count": 34,
   "id": "d4a7bc36-2cec-4c0a-9304-063a40eac5e3",
   "metadata": {
    "tags": []
   },
   "outputs": [
    {
     "name": "stdout",
     "output_type": "stream",
     "text": [
      "Epoch 1/100\n",
      "55/55 - 14s - loss: 0.1333 - val_loss: 0.0072 - 14s/epoch - 254ms/step\n",
      "Epoch 2/100\n",
      "55/55 - 1s - loss: 0.0049 - val_loss: 0.0063 - 674ms/epoch - 12ms/step\n",
      "Epoch 3/100\n",
      "55/55 - 1s - loss: 0.0045 - val_loss: 0.0057 - 669ms/epoch - 12ms/step\n",
      "Epoch 4/100\n",
      "55/55 - 1s - loss: 0.0041 - val_loss: 0.0053 - 668ms/epoch - 12ms/step\n",
      "Epoch 5/100\n",
      "55/55 - 1s - loss: 0.0040 - val_loss: 0.0052 - 653ms/epoch - 12ms/step\n",
      "Epoch 6/100\n",
      "55/55 - 1s - loss: 0.0039 - val_loss: 0.0051 - 663ms/epoch - 12ms/step\n",
      "Epoch 7/100\n",
      "55/55 - 1s - loss: 0.0039 - val_loss: 0.0051 - 657ms/epoch - 12ms/step\n",
      "Epoch 8/100\n",
      "55/55 - 1s - loss: 0.0038 - val_loss: 0.0050 - 690ms/epoch - 13ms/step\n",
      "Epoch 9/100\n",
      "55/55 - 1s - loss: 0.0038 - val_loss: 0.0050 - 652ms/epoch - 12ms/step\n",
      "Epoch 10/100\n",
      "55/55 - 1s - loss: 0.0038 - val_loss: 0.0050 - 703ms/epoch - 13ms/step\n",
      "Epoch 11/100\n",
      "55/55 - 1s - loss: 0.0038 - val_loss: 0.0050 - 696ms/epoch - 13ms/step\n",
      "Epoch 12/100\n",
      "55/55 - 1s - loss: 0.0038 - val_loss: 0.0050 - 590ms/epoch - 11ms/step\n",
      "Epoch 13/100\n",
      "55/55 - 1s - loss: 0.0038 - val_loss: 0.0050 - 562ms/epoch - 10ms/step\n",
      "Epoch 14/100\n",
      "55/55 - 1s - loss: 0.0038 - val_loss: 0.0049 - 516ms/epoch - 9ms/step\n",
      "Epoch 15/100\n",
      "55/55 - 1s - loss: 0.0038 - val_loss: 0.0049 - 523ms/epoch - 10ms/step\n",
      "Epoch 16/100\n",
      "55/55 - 1s - loss: 0.0038 - val_loss: 0.0049 - 543ms/epoch - 10ms/step\n",
      "Epoch 17/100\n",
      "55/55 - 1s - loss: 0.0038 - val_loss: 0.0049 - 511ms/epoch - 9ms/step\n",
      "Epoch 18/100\n",
      "55/55 - 1s - loss: 0.0038 - val_loss: 0.0049 - 524ms/epoch - 10ms/step\n",
      "Epoch 19/100\n",
      "55/55 - 1s - loss: 0.0038 - val_loss: 0.0049 - 583ms/epoch - 11ms/step\n",
      "Epoch 20/100\n",
      "55/55 - 1s - loss: 0.0038 - val_loss: 0.0049 - 552ms/epoch - 10ms/step\n",
      "Epoch 21/100\n",
      "55/55 - 1s - loss: 0.0038 - val_loss: 0.0049 - 538ms/epoch - 10ms/step\n",
      "Epoch 22/100\n",
      "55/55 - 1s - loss: 0.0038 - val_loss: 0.0049 - 527ms/epoch - 10ms/step\n",
      "Epoch 23/100\n",
      "55/55 - 1s - loss: 0.0038 - val_loss: 0.0048 - 622ms/epoch - 11ms/step\n",
      "Epoch 24/100\n",
      "55/55 - 1s - loss: 0.0037 - val_loss: 0.0049 - 589ms/epoch - 11ms/step\n",
      "Epoch 25/100\n",
      "55/55 - 1s - loss: 0.0038 - val_loss: 0.0049 - 597ms/epoch - 11ms/step\n",
      "Epoch 26/100\n",
      "55/55 - 1s - loss: 0.0037 - val_loss: 0.0048 - 582ms/epoch - 11ms/step\n",
      "Epoch 27/100\n",
      "55/55 - 1s - loss: 0.0037 - val_loss: 0.0049 - 591ms/epoch - 11ms/step\n",
      "Epoch 28/100\n",
      "55/55 - 1s - loss: 0.0037 - val_loss: 0.0048 - 641ms/epoch - 12ms/step\n",
      "Epoch 29/100\n",
      "55/55 - 1s - loss: 0.0037 - val_loss: 0.0048 - 682ms/epoch - 12ms/step\n",
      "Epoch 30/100\n",
      "55/55 - 1s - loss: 0.0037 - val_loss: 0.0048 - 701ms/epoch - 13ms/step\n",
      "Epoch 31/100\n",
      "55/55 - 1s - loss: 0.0037 - val_loss: 0.0049 - 658ms/epoch - 12ms/step\n",
      "Epoch 32/100\n",
      "55/55 - 1s - loss: 0.0037 - val_loss: 0.0048 - 707ms/epoch - 13ms/step\n",
      "Epoch 33/100\n",
      "55/55 - 1s - loss: 0.0037 - val_loss: 0.0048 - 663ms/epoch - 12ms/step\n",
      "Epoch 34/100\n",
      "55/55 - 1s - loss: 0.0037 - val_loss: 0.0048 - 692ms/epoch - 13ms/step\n",
      "Epoch 35/100\n",
      "55/55 - 1s - loss: 0.0037 - val_loss: 0.0048 - 679ms/epoch - 12ms/step\n",
      "Epoch 36/100\n",
      "55/55 - 1s - loss: 0.0037 - val_loss: 0.0048 - 705ms/epoch - 13ms/step\n",
      "Epoch 37/100\n",
      "55/55 - 1s - loss: 0.0037 - val_loss: 0.0048 - 696ms/epoch - 13ms/step\n",
      "Epoch 38/100\n",
      "55/55 - 1s - loss: 0.0037 - val_loss: 0.0048 - 690ms/epoch - 13ms/step\n",
      "Epoch 39/100\n",
      "55/55 - 1s - loss: 0.0037 - val_loss: 0.0048 - 693ms/epoch - 13ms/step\n",
      "Epoch 40/100\n",
      "55/55 - 1s - loss: 0.0037 - val_loss: 0.0048 - 689ms/epoch - 13ms/step\n",
      "Epoch 41/100\n",
      "55/55 - 1s - loss: 0.0037 - val_loss: 0.0048 - 737ms/epoch - 13ms/step\n",
      "Epoch 42/100\n",
      "55/55 - 1s - loss: 0.0037 - val_loss: 0.0048 - 709ms/epoch - 13ms/step\n",
      "Epoch 43/100\n",
      "55/55 - 1s - loss: 0.0037 - val_loss: 0.0048 - 678ms/epoch - 12ms/step\n",
      "Epoch 44/100\n",
      "55/55 - 1s - loss: 0.0037 - val_loss: 0.0048 - 690ms/epoch - 13ms/step\n",
      "Epoch 45/100\n",
      "55/55 - 1s - loss: 0.0037 - val_loss: 0.0048 - 693ms/epoch - 13ms/step\n",
      "Epoch 46/100\n",
      "55/55 - 1s - loss: 0.0037 - val_loss: 0.0048 - 709ms/epoch - 13ms/step\n",
      "Epoch 47/100\n",
      "55/55 - 1s - loss: 0.0037 - val_loss: 0.0048 - 704ms/epoch - 13ms/step\n",
      "Epoch 48/100\n",
      "55/55 - 1s - loss: 0.0037 - val_loss: 0.0048 - 668ms/epoch - 12ms/step\n",
      "Epoch 49/100\n",
      "55/55 - 1s - loss: 0.0037 - val_loss: 0.0047 - 674ms/epoch - 12ms/step\n",
      "Epoch 50/100\n",
      "55/55 - 1s - loss: 0.0037 - val_loss: 0.0048 - 671ms/epoch - 12ms/step\n",
      "Epoch 51/100\n",
      "55/55 - 1s - loss: 0.0037 - val_loss: 0.0048 - 678ms/epoch - 12ms/step\n",
      "Epoch 52/100\n",
      "55/55 - 1s - loss: 0.0037 - val_loss: 0.0048 - 729ms/epoch - 13ms/step\n",
      "Epoch 53/100\n",
      "55/55 - 1s - loss: 0.0037 - val_loss: 0.0048 - 655ms/epoch - 12ms/step\n",
      "Epoch 54/100\n",
      "55/55 - 1s - loss: 0.0037 - val_loss: 0.0048 - 642ms/epoch - 12ms/step\n",
      "Epoch 55/100\n",
      "55/55 - 1s - loss: 0.0037 - val_loss: 0.0048 - 653ms/epoch - 12ms/step\n",
      "Epoch 56/100\n",
      "55/55 - 1s - loss: 0.0037 - val_loss: 0.0048 - 681ms/epoch - 12ms/step\n",
      "Epoch 57/100\n",
      "55/55 - 1s - loss: 0.0037 - val_loss: 0.0048 - 710ms/epoch - 13ms/step\n",
      "Epoch 58/100\n",
      "55/55 - 1s - loss: 0.0037 - val_loss: 0.0048 - 719ms/epoch - 13ms/step\n",
      "Epoch 59/100\n",
      "55/55 - 1s - loss: 0.0037 - val_loss: 0.0047 - 688ms/epoch - 13ms/step\n",
      "Epoch 60/100\n",
      "55/55 - 1s - loss: 0.0036 - val_loss: 0.0048 - 657ms/epoch - 12ms/step\n",
      "Epoch 61/100\n",
      "55/55 - 1s - loss: 0.0036 - val_loss: 0.0048 - 565ms/epoch - 10ms/step\n",
      "Epoch 62/100\n",
      "55/55 - 1s - loss: 0.0037 - val_loss: 0.0048 - 621ms/epoch - 11ms/step\n",
      "Epoch 63/100\n",
      "55/55 - 1s - loss: 0.0037 - val_loss: 0.0048 - 607ms/epoch - 11ms/step\n",
      "Epoch 64/100\n",
      "55/55 - 1s - loss: 0.0036 - val_loss: 0.0047 - 555ms/epoch - 10ms/step\n",
      "Epoch 65/100\n",
      "55/55 - 1s - loss: 0.0036 - val_loss: 0.0047 - 551ms/epoch - 10ms/step\n",
      "Epoch 66/100\n",
      "55/55 - 1s - loss: 0.0036 - val_loss: 0.0047 - 565ms/epoch - 10ms/step\n",
      "Epoch 67/100\n",
      "55/55 - 1s - loss: 0.0036 - val_loss: 0.0048 - 558ms/epoch - 10ms/step\n",
      "Epoch 68/100\n",
      "55/55 - 1s - loss: 0.0036 - val_loss: 0.0048 - 594ms/epoch - 11ms/step\n",
      "Epoch 69/100\n",
      "55/55 - 1s - loss: 0.0036 - val_loss: 0.0047 - 700ms/epoch - 13ms/step\n",
      "Epoch 70/100\n",
      "55/55 - 1s - loss: 0.0036 - val_loss: 0.0047 - 698ms/epoch - 13ms/step\n",
      "Epoch 71/100\n",
      "55/55 - 1s - loss: 0.0036 - val_loss: 0.0048 - 716ms/epoch - 13ms/step\n",
      "Epoch 72/100\n",
      "55/55 - 1s - loss: 0.0036 - val_loss: 0.0048 - 718ms/epoch - 13ms/step\n",
      "Epoch 73/100\n",
      "55/55 - 1s - loss: 0.0036 - val_loss: 0.0047 - 734ms/epoch - 13ms/step\n",
      "Epoch 74/100\n",
      "55/55 - 1s - loss: 0.0036 - val_loss: 0.0047 - 695ms/epoch - 13ms/step\n",
      "Epoch 75/100\n",
      "55/55 - 1s - loss: 0.0036 - val_loss: 0.0047 - 686ms/epoch - 12ms/step\n",
      "Epoch 76/100\n",
      "55/55 - 1s - loss: 0.0036 - val_loss: 0.0047 - 708ms/epoch - 13ms/step\n",
      "Epoch 77/100\n",
      "55/55 - 1s - loss: 0.0036 - val_loss: 0.0047 - 696ms/epoch - 13ms/step\n",
      "Epoch 78/100\n",
      "55/55 - 1s - loss: 0.0036 - val_loss: 0.0047 - 696ms/epoch - 13ms/step\n",
      "Epoch 79/100\n",
      "55/55 - 1s - loss: 0.0036 - val_loss: 0.0047 - 697ms/epoch - 13ms/step\n",
      "Epoch 80/100\n",
      "55/55 - 1s - loss: 0.0036 - val_loss: 0.0047 - 700ms/epoch - 13ms/step\n",
      "Epoch 81/100\n",
      "55/55 - 1s - loss: 0.0036 - val_loss: 0.0047 - 687ms/epoch - 12ms/step\n",
      "Epoch 82/100\n",
      "55/55 - 1s - loss: 0.0036 - val_loss: 0.0047 - 713ms/epoch - 13ms/step\n",
      "Epoch 83/100\n",
      "55/55 - 1s - loss: 0.0036 - val_loss: 0.0047 - 690ms/epoch - 13ms/step\n",
      "Epoch 84/100\n",
      "55/55 - 1s - loss: 0.0036 - val_loss: 0.0047 - 682ms/epoch - 12ms/step\n",
      "Epoch 85/100\n",
      "55/55 - 1s - loss: 0.0036 - val_loss: 0.0047 - 693ms/epoch - 13ms/step\n",
      "Epoch 86/100\n",
      "55/55 - 1s - loss: 0.0036 - val_loss: 0.0047 - 733ms/epoch - 13ms/step\n",
      "Epoch 87/100\n",
      "55/55 - 1s - loss: 0.0036 - val_loss: 0.0047 - 698ms/epoch - 13ms/step\n",
      "Epoch 88/100\n",
      "55/55 - 1s - loss: 0.0036 - val_loss: 0.0047 - 691ms/epoch - 13ms/step\n",
      "Epoch 89/100\n",
      "55/55 - 1s - loss: 0.0036 - val_loss: 0.0047 - 719ms/epoch - 13ms/step\n",
      "Epoch 90/100\n",
      "55/55 - 1s - loss: 0.0036 - val_loss: 0.0047 - 705ms/epoch - 13ms/step\n",
      "Epoch 91/100\n",
      "55/55 - 1s - loss: 0.0036 - val_loss: 0.0047 - 677ms/epoch - 12ms/step\n",
      "Epoch 92/100\n",
      "55/55 - 1s - loss: 0.0036 - val_loss: 0.0047 - 692ms/epoch - 13ms/step\n",
      "Epoch 93/100\n",
      "55/55 - 1s - loss: 0.0036 - val_loss: 0.0047 - 711ms/epoch - 13ms/step\n",
      "Epoch 94/100\n",
      "55/55 - 1s - loss: 0.0036 - val_loss: 0.0047 - 683ms/epoch - 12ms/step\n",
      "Epoch 95/100\n",
      "55/55 - 1s - loss: 0.0036 - val_loss: 0.0048 - 651ms/epoch - 12ms/step\n",
      "Epoch 96/100\n",
      "55/55 - 1s - loss: 0.0036 - val_loss: 0.0048 - 703ms/epoch - 13ms/step\n",
      "Epoch 97/100\n",
      "55/55 - 1s - loss: 0.0036 - val_loss: 0.0048 - 705ms/epoch - 13ms/step\n",
      "Epoch 98/100\n",
      "55/55 - 1s - loss: 0.0036 - val_loss: 0.0048 - 628ms/epoch - 11ms/step\n",
      "Epoch 99/100\n",
      "55/55 - 1s - loss: 0.0036 - val_loss: 0.0048 - 637ms/epoch - 12ms/step\n",
      "Epoch 100/100\n",
      "55/55 - 1s - loss: 0.0036 - val_loss: 0.0048 - 677ms/epoch - 12ms/step\n"
     ]
    },
    {
     "data": {
      "image/png": "[encoded data removed]",
      "text/plain": [
       "<Figure size 432x288 with 1 Axes>"
      ]
     },
     "metadata": {
      "needs_background": "light"
     },
     "output_type": "display_data"
    }
   ],
   "source": [
    "# design network\n",
    "model = Sequential()\n",
    "model.add(Bidirectional(LSTM(50, activation='relu', return_sequences=True, input_shape=(train_X.shape[1], train_X.shape[2]))))\n",
    "model.add(Bidirectional(LSTM(50, activation='relu', return_sequences=True)))\n",
    "model.add(Bidirectional(LSTM(50, activation='relu')))\n",
    "model.add(Dense(1))\n",
    "model.compile(loss='mse', optimizer='adam')\n",
    "# fit network\n",
    "history = model.fit(train_X, train_y, epochs=100, validation_data=(test_X, test_y), verbose=2, shuffle=False)\n",
    "# plot history\n",
    "pyplot.plot(history.history['loss'], label='train')\n",
    "pyplot.plot(history.history['val_loss'], label='test')\n",
    "pyplot.legend()\n",
    "pyplot.show()"
   ]
  },
  {
   "cell_type": "code",
   "execution_count": 35,
   "id": "7b400ad6-89bd-4358-b87f-9820dbb28679",
   "metadata": {},
   "outputs": [],
   "source": [
    "# make a prediction\n",
    "yhat = model.predict(test_X)\n",
    "test_X = test_X.reshape((test_X.shape[0], n_days*n_features))\n",
    "# invert scaling for forecast\n",
    "inv_yhat = concatenate((yhat, test_X[:, -(n_features-1):]), axis=1)\n",
    "inv_yhat = scaler.inverse_transform(inv_yhat)\n",
    "inv_yhat = inv_yhat[:,0]\n",
    "# invert scaling for actual\n",
    "test_y = test_y.reshape((len(test_y), 1))\n",
    "inv_y = concatenate((test_y, test_X[:, -(n_features-1):]), axis=1)\n",
    "inv_y = scaler.inverse_transform(inv_y)\n",
    "inv_y = inv_y[:,0]"
   ]
  },
  {
   "cell_type": "code",
   "execution_count": 36,
   "id": "ef71fe73-63f7-431a-8998-cdb887ab210d",
   "metadata": {},
   "outputs": [],
   "source": [
    "df_pred = pd.DataFrame()\n",
    "df_pred['close'] = df['close'].iloc[-187:]\n",
    "df_pred = df_pred.reset_index(drop=True)  \n",
    "df_pred['Prediction_lstm'] = inv_yhat"
   ]
  },
  {
   "cell_type": "code",
   "execution_count": 43,
   "id": "6bc99742-6142-41b8-a1e2-b0165a4c25a8",
   "metadata": {
    "tags": []
   },
   "outputs": [],
   "source": [
    "new_df = reframed.iloc[:,:-(n_features-1)]\n",
    "new_df = new_df.rename(columns={'var1(t-2)': 'close(t-2)', 'var2(t-2)': 'trend(t-2)', 'var3(t-2)': 'lag_close3(t-2)', \n",
    "                                'var4(t-2)': 'lag_close7(t-2)', 'var5(t-2)': 'lag_trend3(t-2)','var6(t-2)': 'lag_trend7(t-2)',\n",
    "                                'var1(t-1)': 'close(t-1)', 'var2(t-1)': 'trend(t-1)', 'var3(t-1)': 'lag_close3(t-1)', \n",
    "                                'var4(t-1)': 'lag_close7(t-1)', 'var5(t-1)': 'lag_trend3(t-1)', \n",
    "                                'var6(t-1)': 'lag_trend7(t-1)', 'var1(t)': 'close(t)'})\n",
    "train = new_df.iloc[:1750,:]\n",
    "test = new_df.iloc[1750:,:]\n",
    "X_train = train.drop(\"close(t)\", axis =1)\n",
    "y_train = train['close(t)']\n",
    "X_test = test.drop(\"close(t)\", axis =1)\n",
    "y_test = test['close(t)']"
   ]
  },
  {
   "cell_type": "code",
   "execution_count": 44,
   "id": "1ba63510-33ef-432a-a5cd-e776ef2e4315",
   "metadata": {
    "tags": []
   },
   "outputs": [
    {
     "data": {
      "text/plain": [
       "XGBRegressor(base_score=0.5, booster='gbtree', callbacks=None,\n",
       "             colsample_bylevel=1, colsample_bynode=1, colsample_bytree=1,\n",
       "             early_stopping_rounds=None, enable_categorical=False,\n",
       "             eval_metric=None, gamma=0, gpu_id=-1, grow_policy='depthwise',\n",
       "             importance_type=None, interaction_constraints='',\n",
       "             learning_rate=0.300000012, max_bin=256, max_cat_to_onehot=4,\n",
       "             max_delta_step=0, max_depth=6, max_leaves=0, min_child_weight=1,\n",
       "             missing=nan, monotone_constraints='()', n_estimators=1000,\n",
       "             n_jobs=0, num_parallel_tree=1, predictor='auto', random_state=0,\n",
       "             reg_alpha=0, reg_lambda=1, ...)"
      ]
     },
     "execution_count": 44,
     "metadata": {},
     "output_type": "execute_result"
    }
   ],
   "source": [
    "import xgboost as xgb\n",
    "from xgboost import plot_importance, plot_tree\n",
    "reg = xgb.XGBRegressor(n_estimators=1000)\n",
    "reg.fit(X_train, y_train, eval_set=[(X_train, y_train), (X_test, y_test)], early_stopping_rounds=50, verbose=False)"
   ]
  },
  {
   "cell_type": "code",
   "execution_count": 45,
   "id": "e1337794-f311-453a-860c-11d16f139afb",
   "metadata": {},
   "outputs": [
    {
     "data": {
      "image/png": "[encoded data removed]",
      "text/plain": [
       "<Figure size 432x288 with 1 Axes>"
      ]
     },
     "metadata": {
      "needs_background": "light"
     },
     "output_type": "display_data"
    }
   ],
   "source": [
    "_ = plot_importance(reg, height=0.9)"
   ]
  },
  {
   "cell_type": "code",
   "execution_count": 46,
   "id": "e1e81557-da60-4652-807a-65c7c53291b2",
   "metadata": {},
   "outputs": [],
   "source": [
    "Prediction_xgb = reg.predict(X_test)"
   ]
  },
  {
   "cell_type": "code",
   "execution_count": 47,
   "id": "a1e510b2-4d79-45a5-a5f2-166016f769ec",
   "metadata": {},
   "outputs": [],
   "source": [
    "Prediction_xgb = Prediction_xgb.reshape(-1,1)"
   ]
  },
  {
   "cell_type": "code",
   "execution_count": 48,
   "id": "5aeb3109-102e-4d5d-8430-64707b193414",
   "metadata": {},
   "outputs": [],
   "source": [
    "inv_yhat = concatenate((Prediction_xgb, test_X[:, -(n_features-1):]), axis=1)\n",
    "inv_yhat = scaler.inverse_transform(inv_yhat)\n",
    "inv_yhat = inv_yhat[:,0]"
   ]
  },
  {
   "cell_type": "code",
   "execution_count": 49,
   "id": "b61d241a-aedc-409a-b3be-e03cf193d3a7",
   "metadata": {},
   "outputs": [],
   "source": [
    "df_pred['Prediction_xgb'] = inv_yhat"
   ]
  },
  {
   "cell_type": "code",
   "execution_count": 50,
   "id": "1fee63b7-69ca-494c-9a53-363f09d1a4d8",
   "metadata": {
    "tags": []
   },
   "outputs": [
    {
     "name": "stdout",
     "output_type": "stream",
     "text": [
      "Performing stepwise search to minimize aic\n",
      " ARIMA(2,0,2)(0,0,0)[0] intercept   : AIC=-4895.547, Time=5.38 sec\n",
      " ARIMA(0,0,0)(0,0,0)[0] intercept   : AIC=-4900.509, Time=0.51 sec\n",
      " ARIMA(1,0,0)(0,0,0)[0] intercept   : AIC=-4899.192, Time=1.43 sec\n",
      " ARIMA(0,0,1)(0,0,0)[0] intercept   : AIC=-4899.144, Time=0.77 sec\n",
      " ARIMA(0,0,0)(0,0,0)[0]             : AIC=3952.907, Time=0.17 sec\n",
      " ARIMA(1,0,1)(0,0,0)[0] intercept   : AIC=-4897.021, Time=2.40 sec\n",
      "\n",
      "Best model:  ARIMA(0,0,0)(0,0,0)[0] intercept\n",
      "Total fit time: 10.675 seconds\n"
     ]
    }
   ],
   "source": [
    "bestfit(y_train)"
   ]
  },
  {
   "cell_type": "code",
   "execution_count": 51,
   "id": "aafe6cdd-56cc-451a-b08f-1267cfcc810a",
   "metadata": {
    "tags": []
   },
   "outputs": [
    {
     "name": "stderr",
     "output_type": "stream",
     "text": [
      "C:\\Users\\rohit\\anaconda3\\lib\\site-packages\\statsmodels\\tsa\\arima_model.py:472: FutureWarning: \n",
      "statsmodels.tsa.arima_model.ARMA and statsmodels.tsa.arima_model.ARIMA have\n",
      "been deprecated in favor of statsmodels.tsa.arima.model.ARIMA (note the .\n",
      "between arima and model) and\n",
      "statsmodels.tsa.SARIMAX. These will be removed after the 0.12 release.\n",
      "\n",
      "statsmodels.tsa.arima.model.ARIMA makes use of the statespace framework and\n",
      "is both well tested and maintained.\n",
      "\n",
      "To silence this warning and continue using ARMA and ARIMA until they are\n",
      "removed, use:\n",
      "\n",
      "import warnings\n",
      "warnings.filterwarnings('ignore', 'statsmodels.tsa.arima_model.ARMA',\n",
      "                        FutureWarning)\n",
      "warnings.filterwarnings('ignore', 'statsmodels.tsa.arima_model.ARIMA',\n",
      "                        FutureWarning)\n",
      "\n",
      "  warnings.warn(ARIMA_DEPRECATION_WARN, FutureWarning)\n",
      "C:\\Users\\rohit\\anaconda3\\lib\\site-packages\\statsmodels\\tsa\\base\\tsa_model.py:578: ValueWarning: An unsupported index was provided and will be ignored when e.g. forecasting.\n",
      "  warnings.warn('An unsupported index was provided and will be'\n",
      "C:\\Users\\rohit\\anaconda3\\lib\\site-packages\\statsmodels\\tsa\\base\\tsa_model.py:376: ValueWarning: No supported index is available. Prediction results will be given with an integer index beginning at `start`.\n",
      "  warnings.warn('No supported index is available.'\n"
     ]
    }
   ],
   "source": [
    "Prediction_arima = arima(y_train,(0,0,0))\n",
    "Prediction_arima = Prediction_arima.values.reshape(-1,1)"
   ]
  },
  {
   "cell_type": "code",
   "execution_count": 52,
   "id": "dee0a254-c4cd-4b82-b454-473de223a3f4",
   "metadata": {},
   "outputs": [],
   "source": [
    "inv_yhat = concatenate((Prediction_arima, test_X[:, -(n_features-1):]), axis=1)\n",
    "inv_yhat = scaler.inverse_transform(inv_yhat)\n",
    "inv_yhat = inv_yhat[:,0]"
   ]
  },
  {
   "cell_type": "code",
   "execution_count": 53,
   "id": "43864a7e-32b5-4ed8-926d-739e047733ef",
   "metadata": {
    "tags": []
   },
   "outputs": [],
   "source": [
    "df_pred['Prediction_arima'] = inv_yhat"
   ]
  },
  {
   "cell_type": "code",
   "execution_count": 66,
   "id": "79efa236-b5c8-40e9-ae6e-b5b60d8e47cc",
   "metadata": {},
   "outputs": [],
   "source": [
    "df_pred['Ensemble'] = (df_pred['Prediction_xgb']+df_pred['Prediction_arima']+df_pred['Prediction_lstm'])/3"
   ]
  },
  {
   "cell_type": "code",
   "execution_count": 67,
   "id": "a1168ce6-bbf7-4a59-b64c-d6c4153a80cc",
   "metadata": {},
   "outputs": [
    {
     "data": {
      "image/png": "[encoded data removed]",
      "text/plain": [
       "<Figure size 1080x360 with 1 Axes>"
      ]
     },
     "metadata": {
      "needs_background": "light"
     },
     "output_type": "display_data"
    }
   ],
   "source": [
    "_ = df_pred[['close','Prediction_xgb','Prediction_arima','Prediction_lstm','Ensemble']].plot(figsize=(15, 5))"
   ]
  },
  {
   "cell_type": "code",
   "execution_count": 68,
   "id": "e9fad3b9",
   "metadata": {},
   "outputs": [
    {
     "name": "stdout",
     "output_type": "stream",
     "text": [
      "rmse for xgb:  6.864046491584547\n",
      "rmse for arima:  6.835780910864449\n",
      "rmse for ensemble:  6.75723765485368\n",
      "rmse for lstm:  6.82445694260986\n"
     ]
    }
   ],
   "source": [
    "print('rmse for xgb: ',rmse(df_pred['Prediction_xgb'],df_pred['close']))\n",
    "print('rmse for arima: ',rmse(df_pred['Prediction_arima'],df_pred['close']))\n",
    "print('rmse for ensemble: ',rmse(df_pred['Ensemble'],df_pred['close']))\n",
    "print('rmse for lstm: ',rmse(df_pred['Prediction_lstm'],df_pred['close']))"
   ]
  },
  {
   "cell_type": "code",
   "execution_count": 69,
   "id": "d72fc7bb-6dd4-4453-a008-f6e26e2fe896",
   "metadata": {},
   "outputs": [
    {
     "name": "stdout",
     "output_type": "stream",
     "text": [
      "mape for xgb:  152.1383760245694\n",
      "mape for arima:  100.08865947263807\n",
      "mape for ensemble:  107.42581912127436\n",
      "mape for lstm:  144.7754967776893\n"
     ]
    }
   ],
   "source": [
    "import numpy as np\n",
    "\n",
    "def mape(actual, pred): \n",
    "    actual, pred = np.array(actual), np.array(pred)\n",
    "    return np.mean(np.abs((actual - pred) / actual)) * 100\n",
    "\n",
    "print('mape for xgb: ',mape(df_pred['close'], df_pred['Prediction_xgb']))\n",
    "print('mape for arima: ',mape(df_pred['close'], df_pred['Prediction_arima']))\n",
    "print('mape for ensemble: ',mape(df_pred['close'], df_pred['Ensemble']))\n",
    "print('mape for lstm: ',mape(df_pred['close'], df_pred['Prediction_lstm']))"
   ]
  },
  {
   "cell_type": "markdown",
   "id": "10f015c0",
   "metadata": {},
   "source": [
    "Increasing the lag window does not seem to change the result, persuing this method does not seem to work"
   ]
  },
  {
   "cell_type": "markdown",
   "id": "5d8b9071",
   "metadata": {},
   "source": [
    "#### Long and short with no lag"
   ]
  },
  {
   "cell_type": "code",
   "execution_count": null,
   "id": "64951f33-d7f3-471b-8fe0-208a8ec8ca4a",
   "metadata": {},
   "outputs": [],
   "source": [
    "df = pd.DataFrame()\n",
    "df[['close_binary','trend','lag_close3','lag_close7','lag_trend3','lag_trend7']] = data[['close_binary','returns_trend','returns_close_Window_3','returns_close_Window_7','returns_trend_Window_3','returns_trend_Window_7']]"
   ]
  },
  {
   "cell_type": "code",
   "execution_count": null,
   "id": "a05c0876-7c3f-4bd1-8ace-9c30bd9c6d96",
   "metadata": {},
   "outputs": [],
   "source": [
    "values = df.values\n",
    "# ensure all data is float\n",
    "values = values.astype('float32')\n",
    "# normalize features\n",
    "scaler = MinMaxScaler(feature_range=(0, 1))\n",
    "scaled = scaler.fit_transform(values)\n",
    "n_days = 3\n",
    "n_features = 6\n",
    "# frame as supervised learning\n",
    "reframed = series_to_supervised(scaled, n_days, 1)\n",
    "print(reframed.shape)"
   ]
  },
  {
   "cell_type": "code",
   "execution_count": 204,
   "id": "59528432-148c-4d00-aa78-e57a0fd79f51",
   "metadata": {},
   "outputs": [
    {
     "name": "stderr",
     "output_type": "stream",
     "text": [
      "C:\\Users\\rohit\\anaconda3\\lib\\site-packages\\seaborn\\distributions.py:2619: FutureWarning: `distplot` is a deprecated function and will be removed in a future version. Please adapt your code to use either `displot` (a figure-level function with similar flexibility) or `kdeplot` (an axes-level function for kernel density plots).\n",
      "  warnings.warn(msg, FutureWarning)\n",
      "C:\\Users\\rohit\\anaconda3\\lib\\site-packages\\seaborn\\distributions.py:2619: FutureWarning: `distplot` is a deprecated function and will be removed in a future version. Please adapt your code to use either `displot` (a figure-level function with similar flexibility) or `kdeplot` (an axes-level function for kernel density plots).\n",
      "  warnings.warn(msg, FutureWarning)\n"
     ]
    },
    {
     "data": {
      "text/plain": [
       "<AxesSubplot:xlabel='var1(t)', ylabel='Density'>"
      ]
     },
     "execution_count": 204,
     "metadata": {},
     "output_type": "execute_result"
    },
    {
     "data": {
      "image/png": "[encoded data removed]",
      "text/plain": [
       "<Figure size 432x288 with 2 Axes>"
      ]
     },
     "metadata": {
      "needs_background": "light"
     },
     "output_type": "display_data"
    }
   ],
   "source": [
    "# creating axes to draw plots\n",
    "fig, ax = plt.subplots(1, 2)\n",
    "sns.distplot(df['close_binary'], hist = False, kde = True,\n",
    "            kde_kws = {'shade': True, 'linewidth': 2}, \n",
    "            label = \"Non-Normal\", color =\"green\", ax=ax[0])\n",
    "sns.distplot(reframed['var1(t)'], hist = False, kde = True,\n",
    "            kde_kws = {'shade': True, 'linewidth': 2}, \n",
    "            label = \"Non-Normal\", color =\"green\", ax=ax[1])"
   ]
  },
  {
   "cell_type": "code",
   "execution_count": 206,
   "id": "bf254659-fc9c-41ce-9c03-7e6494c16459",
   "metadata": {},
   "outputs": [],
   "source": [
    "# split into train and test sets\n",
    "values = reframed.values\n",
    "n_train = 1750\n",
    "train = values[:n_train, :]\n",
    "test = values[n_train:, :]"
   ]
  },
  {
   "cell_type": "code",
   "execution_count": 207,
   "id": "c53d4998-abc8-4c71-9c63-014c0b69d211",
   "metadata": {},
   "outputs": [
    {
     "name": "stdout",
     "output_type": "stream",
     "text": [
      "(1750, 3, 6) (1750,) (187, 3, 6) (187, 1)\n"
     ]
    }
   ],
   "source": [
    "# reshape input to be 3D [samples, timesteps, features]\n",
    "train_X = train_X.reshape((train_X.shape[0], n_days, n_features))\n",
    "test_X = test_X.reshape((test_X.shape[0], n_days, n_features))\n",
    "print(train_X.shape, train_y.shape, test_X.shape, test_y.shape)"
   ]
  },
  {
   "cell_type": "code",
   "execution_count": 208,
   "id": "da3b4870-8181-4186-b8a8-a84505b90a61",
   "metadata": {
    "tags": []
   },
   "outputs": [
    {
     "name": "stdout",
     "output_type": "stream",
     "text": [
      "Epoch 1/50\n",
      "55/55 - 10s - loss: 0.1374 - val_loss: 0.0068 - 10s/epoch - 179ms/step\n",
      "Epoch 2/50\n",
      "55/55 - 1s - loss: 0.0052 - val_loss: 0.0064 - 567ms/epoch - 10ms/step\n",
      "Epoch 3/50\n",
      "55/55 - 1s - loss: 0.0047 - val_loss: 0.0061 - 572ms/epoch - 10ms/step\n",
      "Epoch 4/50\n",
      "55/55 - 1s - loss: 0.0043 - val_loss: 0.0054 - 570ms/epoch - 10ms/step\n",
      "Epoch 5/50\n",
      "55/55 - 1s - loss: 0.0041 - val_loss: 0.0052 - 580ms/epoch - 11ms/step\n",
      "Epoch 6/50\n",
      "55/55 - 1s - loss: 0.0040 - val_loss: 0.0051 - 558ms/epoch - 10ms/step\n",
      "Epoch 7/50\n",
      "55/55 - 1s - loss: 0.0039 - val_loss: 0.0051 - 563ms/epoch - 10ms/step\n",
      "Epoch 8/50\n",
      "55/55 - 1s - loss: 0.0038 - val_loss: 0.0050 - 575ms/epoch - 10ms/step\n",
      "Epoch 9/50\n",
      "55/55 - 1s - loss: 0.0038 - val_loss: 0.0050 - 573ms/epoch - 10ms/step\n",
      "Epoch 10/50\n",
      "55/55 - 1s - loss: 0.0038 - val_loss: 0.0050 - 561ms/epoch - 10ms/step\n",
      "Epoch 11/50\n",
      "55/55 - 1s - loss: 0.0038 - val_loss: 0.0050 - 567ms/epoch - 10ms/step\n",
      "Epoch 12/50\n",
      "55/55 - 1s - loss: 0.0038 - val_loss: 0.0049 - 565ms/epoch - 10ms/step\n",
      "Epoch 13/50\n",
      "55/55 - 1s - loss: 0.0038 - val_loss: 0.0049 - 553ms/epoch - 10ms/step\n",
      "Epoch 14/50\n",
      "55/55 - 1s - loss: 0.0037 - val_loss: 0.0049 - 569ms/epoch - 10ms/step\n",
      "Epoch 15/50\n",
      "55/55 - 1s - loss: 0.0037 - val_loss: 0.0049 - 572ms/epoch - 10ms/step\n",
      "Epoch 16/50\n",
      "55/55 - 1s - loss: 0.0037 - val_loss: 0.0049 - 557ms/epoch - 10ms/step\n",
      "Epoch 17/50\n",
      "55/55 - 1s - loss: 0.0037 - val_loss: 0.0049 - 567ms/epoch - 10ms/step\n",
      "Epoch 18/50\n",
      "55/55 - 1s - loss: 0.0037 - val_loss: 0.0049 - 581ms/epoch - 11ms/step\n",
      "Epoch 19/50\n",
      "55/55 - 1s - loss: 0.0037 - val_loss: 0.0049 - 666ms/epoch - 12ms/step\n",
      "Epoch 20/50\n",
      "55/55 - 1s - loss: 0.0037 - val_loss: 0.0048 - 595ms/epoch - 11ms/step\n",
      "Epoch 21/50\n",
      "55/55 - 1s - loss: 0.0037 - val_loss: 0.0048 - 572ms/epoch - 10ms/step\n",
      "Epoch 22/50\n",
      "55/55 - 1s - loss: 0.0037 - val_loss: 0.0048 - 580ms/epoch - 11ms/step\n",
      "Epoch 23/50\n",
      "55/55 - 1s - loss: 0.0037 - val_loss: 0.0048 - 570ms/epoch - 10ms/step\n",
      "Epoch 24/50\n",
      "55/55 - 1s - loss: 0.0037 - val_loss: 0.0048 - 638ms/epoch - 12ms/step\n",
      "Epoch 25/50\n",
      "55/55 - 1s - loss: 0.0037 - val_loss: 0.0048 - 769ms/epoch - 14ms/step\n",
      "Epoch 26/50\n",
      "55/55 - 1s - loss: 0.0037 - val_loss: 0.0048 - 699ms/epoch - 13ms/step\n",
      "Epoch 27/50\n",
      "55/55 - 1s - loss: 0.0037 - val_loss: 0.0048 - 636ms/epoch - 12ms/step\n",
      "Epoch 28/50\n",
      "55/55 - 1s - loss: 0.0037 - val_loss: 0.0048 - 672ms/epoch - 12ms/step\n",
      "Epoch 29/50\n",
      "55/55 - 1s - loss: 0.0037 - val_loss: 0.0048 - 591ms/epoch - 11ms/step\n",
      "Epoch 30/50\n",
      "55/55 - 1s - loss: 0.0037 - val_loss: 0.0048 - 603ms/epoch - 11ms/step\n",
      "Epoch 31/50\n",
      "55/55 - 1s - loss: 0.0037 - val_loss: 0.0048 - 674ms/epoch - 12ms/step\n",
      "Epoch 32/50\n",
      "55/55 - 1s - loss: 0.0037 - val_loss: 0.0048 - 664ms/epoch - 12ms/step\n",
      "Epoch 33/50\n",
      "55/55 - 1s - loss: 0.0037 - val_loss: 0.0048 - 665ms/epoch - 12ms/step\n",
      "Epoch 34/50\n",
      "55/55 - 1s - loss: 0.0037 - val_loss: 0.0048 - 648ms/epoch - 12ms/step\n",
      "Epoch 35/50\n",
      "55/55 - 1s - loss: 0.0037 - val_loss: 0.0048 - 627ms/epoch - 11ms/step\n",
      "Epoch 36/50\n",
      "55/55 - 1s - loss: 0.0037 - val_loss: 0.0047 - 635ms/epoch - 12ms/step\n",
      "Epoch 37/50\n",
      "55/55 - 1s - loss: 0.0037 - val_loss: 0.0047 - 588ms/epoch - 11ms/step\n",
      "Epoch 38/50\n",
      "55/55 - 1s - loss: 0.0037 - val_loss: 0.0048 - 589ms/epoch - 11ms/step\n",
      "Epoch 39/50\n",
      "55/55 - 1s - loss: 0.0037 - val_loss: 0.0047 - 571ms/epoch - 10ms/step\n",
      "Epoch 40/50\n",
      "55/55 - 1s - loss: 0.0037 - val_loss: 0.0047 - 583ms/epoch - 11ms/step\n",
      "Epoch 41/50\n",
      "55/55 - 1s - loss: 0.0037 - val_loss: 0.0047 - 573ms/epoch - 10ms/step\n",
      "Epoch 42/50\n",
      "55/55 - 1s - loss: 0.0037 - val_loss: 0.0047 - 568ms/epoch - 10ms/step\n",
      "Epoch 43/50\n",
      "55/55 - 0s - loss: 0.0037 - val_loss: 0.0047 - 381ms/epoch - 7ms/step\n",
      "Epoch 44/50\n",
      "55/55 - 0s - loss: 0.0037 - val_loss: 0.0047 - 438ms/epoch - 8ms/step\n",
      "Epoch 45/50\n",
      "55/55 - 0s - loss: 0.0037 - val_loss: 0.0047 - 363ms/epoch - 7ms/step\n",
      "Epoch 46/50\n",
      "55/55 - 0s - loss: 0.0036 - val_loss: 0.0047 - 302ms/epoch - 5ms/step\n",
      "Epoch 47/50\n",
      "55/55 - 0s - loss: 0.0037 - val_loss: 0.0047 - 319ms/epoch - 6ms/step\n",
      "Epoch 48/50\n",
      "55/55 - 0s - loss: 0.0037 - val_loss: 0.0047 - 385ms/epoch - 7ms/step\n",
      "Epoch 49/50\n",
      "55/55 - 1s - loss: 0.0036 - val_loss: 0.0047 - 608ms/epoch - 11ms/step\n",
      "Epoch 50/50\n",
      "55/55 - 1s - loss: 0.0036 - val_loss: 0.0047 - 601ms/epoch - 11ms/step\n"
     ]
    },
    {
     "data": {
      "image/png": "[encoded data removed]",
      "text/plain": [
       "<Figure size 432x288 with 1 Axes>"
      ]
     },
     "metadata": {
      "needs_background": "light"
     },
     "output_type": "display_data"
    }
   ],
   "source": [
    "# design network\n",
    "model = Sequential()\n",
    "model.add(Bidirectional(LSTM(50, activation='relu', return_sequences=True, input_shape=(train_X.shape[1], train_X.shape[2]))))\n",
    "model.add(Bidirectional(LSTM(50, activation='relu')))\n",
    "model.add(Dense(1))\n",
    "model.compile(loss='mse', optimizer='adam')\n",
    "# fit network\n",
    "history = model.fit(train_X, train_y, epochs=50, validation_data=(test_X, test_y), verbose=2, shuffle=False)\n",
    "# plot history\n",
    "pyplot.plot(history.history['loss'], label='train')\n",
    "pyplot.plot(history.history['val_loss'], label='test')\n",
    "pyplot.legend()\n",
    "pyplot.show()"
   ]
  },
  {
   "cell_type": "code",
   "execution_count": 209,
   "id": "80605e65-b531-4a43-ab02-7420aa910064",
   "metadata": {},
   "outputs": [],
   "source": [
    "# make a prediction\n",
    "yhat = model.predict(test_X)\n",
    "test_X = test_X.reshape((test_X.shape[0], n_days*n_features))\n",
    "# invert scaling for forecast\n",
    "inv_yhat = concatenate((yhat, test_X[:, -(n_features-1):]), axis=1)\n",
    "inv_yhat = scaler.inverse_transform(inv_yhat)\n",
    "inv_yhat = inv_yhat[:,0]\n",
    "# invert scaling for actual\n",
    "test_y = test_y.reshape((len(test_y), 1))\n",
    "inv_y = concatenate((test_y, test_X[:, -(n_features-1):]), axis=1)\n",
    "inv_y = scaler.inverse_transform(inv_y)\n",
    "inv_y = inv_y[:,0]"
   ]
  },
  {
   "cell_type": "code",
   "execution_count": 210,
   "id": "c374fae4-2a53-4024-bac3-c6355b687385",
   "metadata": {},
   "outputs": [],
   "source": [
    "inv_yhat = concatenate((Prediction_xgb, test_X[:, -(n_features-1):]), axis=1)\n",
    "inv_yhat = scaler.inverse_transform(inv_yhat)\n",
    "inv_yhat = inv_yhat[:,0]"
   ]
  },
  {
   "cell_type": "code",
   "execution_count": 211,
   "id": "5b19b037-ef8d-4fe8-914d-a52ba565bb3e",
   "metadata": {},
   "outputs": [
    {
     "data": {
      "text/plain": [
       "0.49732620320855614"
      ]
     },
     "execution_count": 211,
     "metadata": {},
     "output_type": "execute_result"
    }
   ],
   "source": [
    "binary_pred_acc(inv_yhat)"
   ]
  },
  {
   "cell_type": "code",
   "execution_count": 212,
   "id": "2783210e-4432-46e9-89c9-4fb94399df29",
   "metadata": {},
   "outputs": [],
   "source": [
    "new_df = reframed.iloc[:,:-(n_features-1)]\n",
    "new_df = new_df.rename(columns={'var1(t-3)': 'close(t-3)', 'var2(t-3)': 'trend(t-3)', 'var3(t-3)': 'lag_close3(t-3)', \n",
    "                        'var4(t-3)': 'lag_close7(t-3)', 'var5(t-3)': 'lag_trend3(t-3)','var4(t-3)': 'lag_trend7(t-3)',\n",
    "                        'var1(t-2)': 'close(t-2)', 'var2(t-2)': 'trend(t-2)', 'var3(t-2)': 'lag_close3(t-2)', \n",
    "                        'var4(t-2)': 'lag_close7(t-2)', 'var5(t-2)': 'lag_trend3(t-2)','var6(t-2)': 'lag_trend7(t-2)',\n",
    "                        'var1(t-1)': 'close(t-1)', 'var2(t-1)': 'trend(t-1)', 'var3(t-1)': 'lag_close3(t-1)', \n",
    "                        'var4(t-1)': 'lag_close7(t-1)', 'var5(t-1)': 'lag_trend3(t-1)', \n",
    "                        'var6(t-1)': 'lag_trend7(t-1)', 'var1(t)': 'close(t)'})\n",
    "train = new_df.iloc[:1750,:]\n",
    "test = new_df.iloc[1750:,:]\n",
    "X_train = train.drop(\"close(t)\", axis =1)\n",
    "y_train = train['close(t)']\n",
    "X_test = test.drop(\"close(t)\", axis =1)\n",
    "y_test = test['close(t)']"
   ]
  },
  {
   "cell_type": "code",
   "execution_count": 213,
   "id": "1f084ff1-95fa-473c-ab52-74504fcb323a",
   "metadata": {},
   "outputs": [
    {
     "name": "stderr",
     "output_type": "stream",
     "text": [
      "C:\\Users\\rohit\\anaconda3\\lib\\site-packages\\xgboost\\sklearn.py:793: UserWarning: `early_stopping_rounds` in `fit` method is deprecated for better compatibility with scikit-learn, use `early_stopping_rounds` in constructor or`set_params` instead.\n",
      "  warnings.warn(\n"
     ]
    },
    {
     "data": {
      "text/plain": [
       "XGBClassifier(base_score=0.5, booster='gbtree', callbacks=None,\n",
       "              colsample_bylevel=1, colsample_bynode=1, colsample_bytree=1,\n",
       "              early_stopping_rounds=None, enable_categorical=False,\n",
       "              eval_metric=None, gamma=0, gpu_id=-1, grow_policy='depthwise',\n",
       "              importance_type=None, interaction_constraints='',\n",
       "              learning_rate=0.300000012, max_bin=256, max_cat_to_onehot=4,\n",
       "              max_delta_step=0, max_depth=6, max_leaves=0, min_child_weight=1,\n",
       "              missing=nan, monotone_constraints='()', n_estimators=1000,\n",
       "              n_jobs=0, num_parallel_tree=1, predictor='auto', random_state=0,\n",
       "              reg_alpha=0, reg_lambda=1, ...)"
      ]
     },
     "execution_count": 213,
     "metadata": {},
     "output_type": "execute_result"
    }
   ],
   "source": [
    "import xgboost as xgb\n",
    "from xgboost import plot_importance, plot_tree\n",
    "reg = xgb.XGBClassifier(n_estimators=1000)\n",
    "reg.fit(X_train, y_train, eval_set=[(X_train, y_train), (X_test, y_test)], early_stopping_rounds=50, verbose=False)"
   ]
  },
  {
   "cell_type": "code",
   "execution_count": 214,
   "id": "5147d3f5-fb67-41c3-8780-090ee947dd19",
   "metadata": {},
   "outputs": [
    {
     "data": {
      "image/png": "[encoded data removed]",
      "text/plain": [
       "<Figure size 432x288 with 1 Axes>"
      ]
     },
     "metadata": {
      "needs_background": "light"
     },
     "output_type": "display_data"
    }
   ],
   "source": [
    "_ = plot_importance(reg, height=0.9)"
   ]
  },
  {
   "cell_type": "code",
   "execution_count": 215,
   "id": "952dc23f-3db9-4077-85ce-96057e96aeab",
   "metadata": {},
   "outputs": [],
   "source": [
    "Prediction_xgb = reg.predict(X_test)\n",
    "Prediction_xgb = Prediction_xgb.reshape(-1,1)\n",
    "inv_yhat = concatenate((Prediction_xgb, test_X[:, -(n_features-1):]), axis=1)\n",
    "inv_yhat = scaler.inverse_transform(inv_yhat)\n",
    "inv_yhat = inv_yhat[:,0]"
   ]
  },
  {
   "cell_type": "code",
   "execution_count": 216,
   "id": "148835b0-9abb-4a2a-9e94-cc390e50fea0",
   "metadata": {},
   "outputs": [
    {
     "data": {
      "text/plain": [
       "0.47058823529411764"
      ]
     },
     "execution_count": 216,
     "metadata": {},
     "output_type": "execute_result"
    }
   ],
   "source": [
    "binary_pred_acc(inv_yhat)"
   ]
  },
  {
   "cell_type": "code",
   "execution_count": 226,
   "id": "29f29fb7-a59a-4013-8b52-42ad58298d27",
   "metadata": {},
   "outputs": [
    {
     "name": "stdout",
     "output_type": "stream",
     "text": [
      "Performing stepwise search to minimize aic\n",
      " ARIMA(2,0,2)(0,0,0)[0] intercept   : AIC=2538.898, Time=5.06 sec\n",
      " ARIMA(0,0,0)(0,0,0)[0] intercept   : AIC=2543.993, Time=0.52 sec\n",
      " ARIMA(1,0,0)(0,0,0)[0] intercept   : AIC=2536.994, Time=0.25 sec\n",
      " ARIMA(0,0,1)(0,0,0)[0] intercept   : AIC=2537.266, Time=1.60 sec\n",
      " ARIMA(0,0,0)(0,0,0)[0]             : AIC=3777.140, Time=0.18 sec\n",
      " ARIMA(2,0,0)(0,0,0)[0] intercept   : AIC=2538.744, Time=0.47 sec\n",
      " ARIMA(1,0,1)(0,0,0)[0] intercept   : AIC=2538.808, Time=1.15 sec\n",
      " ARIMA(2,0,1)(0,0,0)[0] intercept   : AIC=2535.836, Time=4.16 sec\n",
      " ARIMA(3,0,1)(0,0,0)[0] intercept   : AIC=2537.233, Time=5.36 sec\n",
      " ARIMA(1,0,2)(0,0,0)[0] intercept   : AIC=2535.565, Time=4.71 sec\n",
      " ARIMA(0,0,2)(0,0,0)[0] intercept   : AIC=2538.649, Time=0.80 sec\n",
      " ARIMA(1,0,3)(0,0,0)[0] intercept   : AIC=2537.175, Time=5.37 sec\n",
      " ARIMA(0,0,3)(0,0,0)[0] intercept   : AIC=2540.192, Time=0.77 sec\n",
      " ARIMA(2,0,3)(0,0,0)[0] intercept   : AIC=2539.288, Time=5.94 sec\n",
      " ARIMA(1,0,2)(0,0,0)[0]             : AIC=inf, Time=2.28 sec\n",
      "\n",
      "Best model:  ARIMA(1,0,2)(0,0,0)[0] intercept\n",
      "Total fit time: 38.643 seconds\n"
     ]
    }
   ],
   "source": [
    "bestfit(y_train)"
   ]
  },
  {
   "cell_type": "code",
   "execution_count": 227,
   "id": "f1eb2267-0b7d-4e54-aa79-3d11c9be5110",
   "metadata": {},
   "outputs": [
    {
     "name": "stderr",
     "output_type": "stream",
     "text": [
      "C:\\Users\\rohit\\anaconda3\\lib\\site-packages\\statsmodels\\tsa\\arima_model.py:472: FutureWarning: \n",
      "statsmodels.tsa.arima_model.ARMA and statsmodels.tsa.arima_model.ARIMA have\n",
      "been deprecated in favor of statsmodels.tsa.arima.model.ARIMA (note the .\n",
      "between arima and model) and\n",
      "statsmodels.tsa.SARIMAX. These will be removed after the 0.12 release.\n",
      "\n",
      "statsmodels.tsa.arima.model.ARIMA makes use of the statespace framework and\n",
      "is both well tested and maintained.\n",
      "\n",
      "To silence this warning and continue using ARMA and ARIMA until they are\n",
      "removed, use:\n",
      "\n",
      "import warnings\n",
      "warnings.filterwarnings('ignore', 'statsmodels.tsa.arima_model.ARMA',\n",
      "                        FutureWarning)\n",
      "warnings.filterwarnings('ignore', 'statsmodels.tsa.arima_model.ARIMA',\n",
      "                        FutureWarning)\n",
      "\n",
      "  warnings.warn(ARIMA_DEPRECATION_WARN, FutureWarning)\n",
      "C:\\Users\\rohit\\anaconda3\\lib\\site-packages\\statsmodels\\tsa\\base\\tsa_model.py:578: ValueWarning: An unsupported index was provided and will be ignored when e.g. forecasting.\n",
      "  warnings.warn('An unsupported index was provided and will be'\n"
     ]
    },
    {
     "ename": "ValueError",
     "evalue": "The computed initial AR coefficients are not stationary\nYou should induce stationarity, choose a different model order, or you can\npass your own start_params.",
     "output_type": "error",
     "traceback": [
      "\u001b[1;31m---------------------------------------------------------------------------\u001b[0m",
      "\u001b[1;31mValueError\u001b[0m                                Traceback (most recent call last)",
      "\u001b[1;32m~\\AppData\\Local\\Temp/ipykernel_22044/737478432.py\u001b[0m in \u001b[0;36m<module>\u001b[1;34m\u001b[0m\n\u001b[1;32m----> 1\u001b[1;33m \u001b[0mPrediction_arima\u001b[0m \u001b[1;33m=\u001b[0m \u001b[0marima\u001b[0m\u001b[1;33m(\u001b[0m\u001b[0my_train\u001b[0m\u001b[1;33m,\u001b[0m\u001b[1;33m(\u001b[0m\u001b[1;36m1\u001b[0m\u001b[1;33m,\u001b[0m\u001b[1;36m0\u001b[0m\u001b[1;33m,\u001b[0m\u001b[1;36m2\u001b[0m\u001b[1;33m)\u001b[0m\u001b[1;33m)\u001b[0m\u001b[1;33m\u001b[0m\u001b[1;33m\u001b[0m\u001b[0m\n\u001b[0m\u001b[0;32m      2\u001b[0m \u001b[0mPrediction_arima\u001b[0m \u001b[1;33m=\u001b[0m \u001b[0mPrediction_arima\u001b[0m\u001b[1;33m.\u001b[0m\u001b[0mvalues\u001b[0m\u001b[1;33m.\u001b[0m\u001b[0mreshape\u001b[0m\u001b[1;33m(\u001b[0m\u001b[1;33m-\u001b[0m\u001b[1;36m1\u001b[0m\u001b[1;33m,\u001b[0m\u001b[1;36m1\u001b[0m\u001b[1;33m)\u001b[0m\u001b[1;33m\u001b[0m\u001b[1;33m\u001b[0m\u001b[0m\n",
      "\u001b[1;32m~\\AppData\\Local\\Temp/ipykernel_22044/4150186268.py\u001b[0m in \u001b[0;36marima\u001b[1;34m(x, y)\u001b[0m\n\u001b[0;32m      1\u001b[0m \u001b[1;32mdef\u001b[0m \u001b[0marima\u001b[0m\u001b[1;33m(\u001b[0m\u001b[0mx\u001b[0m\u001b[1;33m,\u001b[0m\u001b[0my\u001b[0m\u001b[1;33m)\u001b[0m\u001b[1;33m:\u001b[0m\u001b[1;33m\u001b[0m\u001b[1;33m\u001b[0m\u001b[0m\n\u001b[0;32m      2\u001b[0m     \u001b[0mmodel\u001b[0m \u001b[1;33m=\u001b[0m \u001b[0mARIMA\u001b[0m\u001b[1;33m(\u001b[0m\u001b[0mx\u001b[0m\u001b[1;33m,\u001b[0m \u001b[0morder\u001b[0m\u001b[1;33m=\u001b[0m \u001b[0my\u001b[0m\u001b[1;33m)\u001b[0m\u001b[1;33m\u001b[0m\u001b[1;33m\u001b[0m\u001b[0m\n\u001b[1;32m----> 3\u001b[1;33m     \u001b[0mmodel\u001b[0m \u001b[1;33m=\u001b[0m \u001b[0mmodel\u001b[0m\u001b[1;33m.\u001b[0m\u001b[0mfit\u001b[0m\u001b[1;33m(\u001b[0m\u001b[1;33m)\u001b[0m\u001b[1;33m\u001b[0m\u001b[1;33m\u001b[0m\u001b[0m\n\u001b[0m\u001b[0;32m      4\u001b[0m     \u001b[0mmodel\u001b[0m\u001b[1;33m.\u001b[0m\u001b[0msummary\u001b[0m\u001b[1;33m(\u001b[0m\u001b[1;33m)\u001b[0m\u001b[1;33m\u001b[0m\u001b[1;33m\u001b[0m\u001b[0m\n\u001b[0;32m      5\u001b[0m     \u001b[0mpredict\u001b[0m \u001b[1;33m=\u001b[0m \u001b[0mmodel\u001b[0m\u001b[1;33m.\u001b[0m\u001b[0mpredict\u001b[0m\u001b[1;33m(\u001b[0m\u001b[0mstart\u001b[0m \u001b[1;33m=\u001b[0m \u001b[0mlen\u001b[0m\u001b[1;33m(\u001b[0m\u001b[0mtrain\u001b[0m\u001b[1;33m)\u001b[0m\u001b[1;33m,\u001b[0m \u001b[0mend\u001b[0m \u001b[1;33m=\u001b[0m \u001b[0mlen\u001b[0m\u001b[1;33m(\u001b[0m\u001b[0mtrain\u001b[0m\u001b[1;33m)\u001b[0m\u001b[1;33m+\u001b[0m \u001b[0mlen\u001b[0m\u001b[1;33m(\u001b[0m\u001b[0mtest\u001b[0m\u001b[1;33m)\u001b[0m \u001b[1;33m-\u001b[0m \u001b[1;36m1\u001b[0m\u001b[1;33m,\u001b[0m \u001b[0mtyp\u001b[0m \u001b[1;33m=\u001b[0m \u001b[1;34m'levels'\u001b[0m\u001b[1;33m)\u001b[0m\u001b[1;33m\u001b[0m\u001b[1;33m\u001b[0m\u001b[0m\n",
      "\u001b[1;32m~\\anaconda3\\lib\\site-packages\\statsmodels\\tsa\\arima_model.py\u001b[0m in \u001b[0;36mfit\u001b[1;34m(self, start_params, trend, method, transparams, solver, maxiter, full_output, disp, callback, start_ar_lags, **kwargs)\u001b[0m\n\u001b[0;32m   1014\u001b[0m             \u001b[0mstart_params\u001b[0m \u001b[1;33m=\u001b[0m \u001b[0marray_like\u001b[0m\u001b[1;33m(\u001b[0m\u001b[0mstart_params\u001b[0m\u001b[1;33m,\u001b[0m \u001b[1;34m'start_params'\u001b[0m\u001b[1;33m)\u001b[0m\u001b[1;33m\u001b[0m\u001b[1;33m\u001b[0m\u001b[0m\n\u001b[0;32m   1015\u001b[0m         \u001b[1;32melse\u001b[0m\u001b[1;33m:\u001b[0m  \u001b[1;31m# estimate starting parameters\u001b[0m\u001b[1;33m\u001b[0m\u001b[1;33m\u001b[0m\u001b[0m\n\u001b[1;32m-> 1016\u001b[1;33m             start_params = self._fit_start_params((k_ar, k_ma, k), method,\n\u001b[0m\u001b[0;32m   1017\u001b[0m                                                   start_ar_lags)\n\u001b[0;32m   1018\u001b[0m \u001b[1;33m\u001b[0m\u001b[0m\n",
      "\u001b[1;32m~\\anaconda3\\lib\\site-packages\\statsmodels\\tsa\\arima_model.py\u001b[0m in \u001b[0;36m_fit_start_params\u001b[1;34m(self, order, method, start_ar_lags)\u001b[0m\n\u001b[0;32m    606\u001b[0m                 \u001b[1;32mreturn\u001b[0m \u001b[1;33m-\u001b[0m\u001b[0mself\u001b[0m\u001b[1;33m.\u001b[0m\u001b[0mloglike_css\u001b[0m\u001b[1;33m(\u001b[0m\u001b[0mparams\u001b[0m\u001b[1;33m)\u001b[0m\u001b[1;33m\u001b[0m\u001b[1;33m\u001b[0m\u001b[0m\n\u001b[0;32m    607\u001b[0m \u001b[1;33m\u001b[0m\u001b[0m\n\u001b[1;32m--> 608\u001b[1;33m             \u001b[0mstart_params\u001b[0m \u001b[1;33m=\u001b[0m \u001b[0mself\u001b[0m\u001b[1;33m.\u001b[0m\u001b[0m_fit_start_params_hr\u001b[0m\u001b[1;33m(\u001b[0m\u001b[0morder\u001b[0m\u001b[1;33m,\u001b[0m \u001b[0mstart_ar_lags\u001b[0m\u001b[1;33m)\u001b[0m\u001b[1;33m\u001b[0m\u001b[1;33m\u001b[0m\u001b[0m\n\u001b[0m\u001b[0;32m    609\u001b[0m             \u001b[1;32mif\u001b[0m \u001b[0mself\u001b[0m\u001b[1;33m.\u001b[0m\u001b[0mtransparams\u001b[0m\u001b[1;33m:\u001b[0m\u001b[1;33m\u001b[0m\u001b[1;33m\u001b[0m\u001b[0m\n\u001b[0;32m    610\u001b[0m                 \u001b[0mstart_params\u001b[0m \u001b[1;33m=\u001b[0m \u001b[0mself\u001b[0m\u001b[1;33m.\u001b[0m\u001b[0m_invtransparams\u001b[0m\u001b[1;33m(\u001b[0m\u001b[0mstart_params\u001b[0m\u001b[1;33m)\u001b[0m\u001b[1;33m\u001b[0m\u001b[1;33m\u001b[0m\u001b[0m\n",
      "\u001b[1;32m~\\anaconda3\\lib\\site-packages\\statsmodels\\tsa\\arima_model.py\u001b[0m in \u001b[0;36m_fit_start_params_hr\u001b[1;34m(self, order, start_ar_lags)\u001b[0m\n\u001b[0;32m    584\u001b[0m         if p and not np.all(np.abs(np.roots(np.r_[1, -start_params[k:k + p]]\n\u001b[0;32m    585\u001b[0m                                             )) < 1):\n\u001b[1;32m--> 586\u001b[1;33m             raise ValueError(\"The computed initial AR coefficients are not \"\n\u001b[0m\u001b[0;32m    587\u001b[0m                              \u001b[1;34m\"stationary\\nYou should induce stationarity, \"\u001b[0m\u001b[1;33m\u001b[0m\u001b[1;33m\u001b[0m\u001b[0m\n\u001b[0;32m    588\u001b[0m                              \u001b[1;34m\"choose a different model order, or you can\\n\"\u001b[0m\u001b[1;33m\u001b[0m\u001b[1;33m\u001b[0m\u001b[0m\n",
      "\u001b[1;31mValueError\u001b[0m: The computed initial AR coefficients are not stationary\nYou should induce stationarity, choose a different model order, or you can\npass your own start_params."
     ]
    }
   ],
   "source": [
    "Prediction_arima = arima(y_train,(1,0,2))\n",
    "Prediction_arima = Prediction_arima.values.reshape(-1,1)"
   ]
  },
  {
   "cell_type": "code",
   "execution_count": 224,
   "id": "e2582462-aa74-44a7-96b1-e8174f1ce55d",
   "metadata": {},
   "outputs": [],
   "source": [
    "inv_yhat = concatenate((Prediction_arima, test_X[:, -(n_features-1):]), axis=1)\n",
    "inv_yhat = scaler.inverse_transform(inv_yhat)\n",
    "inv_yhat = inv_yhat[:,0]"
   ]
  },
  {
   "cell_type": "code",
   "execution_count": 225,
   "id": "20a3d120-4c0b-43e4-b9f1-0e4b75bc9a31",
   "metadata": {},
   "outputs": [
    {
     "data": {
      "text/plain": [
       "0.42780748663101603"
      ]
     },
     "execution_count": 225,
     "metadata": {},
     "output_type": "execute_result"
    }
   ],
   "source": [
    "binary_pred_acc(inv_yhat)"
   ]
  },
  {
   "cell_type": "code",
   "execution_count": null,
   "id": "2dd17ec5-96b2-4d42-a36b-61834d530e82",
   "metadata": {},
   "outputs": [],
   "source": []
  }
 ],
 "metadata": {
  "kernelspec": {
   "display_name": "Python 3 (ipykernel)",
   "language": "python",
   "name": "python3"
  },
  "language_info": {
   "codemirror_mode": {
    "name": "ipython",
    "version": 3
   },
   "file_extension": ".py",
   "mimetype": "text/x-python",
   "name": "python",
   "nbconvert_exporter": "python",
   "pygments_lexer": "ipython3",
   "version": "3.9.7"
  }
 },
 "nbformat": 4,
 "nbformat_minor": 5
}
